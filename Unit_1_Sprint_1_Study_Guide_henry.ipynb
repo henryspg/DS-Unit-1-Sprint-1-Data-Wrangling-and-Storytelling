{
  "nbformat": 4,
  "nbformat_minor": 0,
  "metadata": {
    "colab": {
      "name": "Unit 1 Sprint 1 - Study Guide - henry.ipynb",
      "provenance": [],
      "collapsed_sections": [],
      "include_colab_link": true
    },
    "kernelspec": {
      "name": "python3",
      "display_name": "Python 3"
    }
  },
  "cells": [
    {
      "cell_type": "markdown",
      "metadata": {
        "id": "view-in-github",
        "colab_type": "text"
      },
      "source": [
        "<a href=\"https://colab.research.google.com/github/henryspg/DS-Unit-1-Sprint-1-Data-Wrangling-and-Storytelling/blob/master/Unit_1_Sprint_1_Study_Guide_henry.ipynb\" target=\"_parent\"><img src=\"https://colab.research.google.com/assets/colab-badge.svg\" alt=\"Open In Colab\"/></a>"
      ]
    },
    {
      "cell_type": "markdown",
      "metadata": {
        "id": "Nd2OOOVXxXS1",
        "colab_type": "text"
      },
      "source": [
        "This study guide should reinforce and provide practice for all of the concepts you have seen in Unit 1 Sprint 1. There are a mix of written questions and coding exercises, both are equally important to prepare you for the sprint challenge as well as to be able to speak on these topics comfortably in interviews and on the job.\n",
        "\n",
        "If you get stuck or are unsure of something remember the 20 minute rule. If that doesn't help, then research a solution with google and stackoverflow. Only once you have exausted these methods should you turn to your Team Lead - they won't be there on your SC or during an interview. That being said, don't hesitate to ask for help if you truly are stuck.\n",
        "\n",
        "Have fun studying!"
      ]
    },
    {
      "cell_type": "markdown",
      "metadata": {
        "id": "fpvInKdXekFi",
        "colab_type": "text"
      },
      "source": [
        "## Questions"
      ]
    },
    {
      "cell_type": "markdown",
      "metadata": {
        "id": "Q6bS8AhBZ86H",
        "colab_type": "text"
      },
      "source": [
        "When completing this section, try to limit your answers to 2-3 sentences max and use plain english as much as possible. It's very easy to hide incomplete knowledge and undertanding behind fancy or technical words, so imagine you are explaining these things to a non-technical interviewer.\n",
        "\n",
        "1. What is a Data Frame\n",
        "Put your answer here\n",
        "DF is a table-like, 2 dimensional format, with columns and rows. Every column has a certain data type.\n",
        "\n",
        "2. What is Pandas?\n",
        "Put your answer here\n",
        "PANDAS: Python library for data analysis where you can manipulate or edit the data.\n",
        "\n",
        "3. How do you check for NaNs?\n",
        "Put your answer here\n",
        "df.isna() . .  or . .\n",
        "df.isnull().sum()\n",
        "\n",
        "4. What is numpy?\n",
        "Put your answer here\n",
        "Numpy is a package in Python for computing. To perform mathematical and logical operations\n",
        "\n",
        "5. What library will you use to plot?\n",
        "```\n",
        "Put your answer here\n",
        "We can plot using Pandas, matplotlib, seaborn, and other libraries"
      ]
    },
    {
      "cell_type": "markdown",
      "metadata": {
        "id": "sj5-1Nnkpej6",
        "colab_type": "text"
      },
      "source": [
        "### what to study"
      ]
    },
    {
      "cell_type": "markdown",
      "metadata": {
        "id": "vz6CusBmpDgz",
        "colab_type": "text"
      },
      "source": [
        "Numpy\n",
        "\n",
        "import tha package; slicing /adding/multiplcating the array; joining/splitting array; finding index, etc\n",
        "Pandas\n",
        "checking NaN;  removing or adding columns; indexing; locating the elements; grouping/window; joining, plotting, etc\n",
        "```\n",
        "Seaborn\n",
        "plotting with Seaborn is based on Matplotlib. It can plot for:  categorical, distribution, regression, matrix , etc.  THis is a good library for statistic and more variety of plotting.\n",
        "```\n",
        "Matplotlib\n",
        "\n",
        "With matplotlib we can plot the data, even multiple data in multiple boxes/figures. Unlike Seaborn, Matplotlib is for basic plotting (line, bar, pie, etc). It has a lot of classes. sample class for axes: https://matplotlib.org/api/axes_api.html#matplotlib.axes.Axes\n",
        "\n",
        "```\n",
        "Pairplot\n",
        "The pairplot is from Seaborn that creates multiple axes such that each variable in data will by shared in the y-axis across a single row and in the x-axis across a single column.  https://seaborn.pydata.org/generated/seaborn.pairplot.html\n",
        "```\n",
        "Analysis and Interpretation\n",
        "Analysis is using our python analytical skilss to extract data and turn into business information.~\n",
        "Interpretation is more related to : how to present our business info to the boss or customers with a good visualization. \n"
      ]
    },
    {
      "cell_type": "code",
      "metadata": {
        "id": "x8ABb_hL1IP8",
        "colab_type": "code",
        "colab": {}
      },
      "source": [
        ""
      ],
      "execution_count": 0,
      "outputs": []
    },
    {
      "cell_type": "markdown",
      "metadata": {
        "id": "dUQaIwbceohq",
        "colab_type": "text"
      },
      "source": [
        "## Practice Problems"
      ]
    },
    {
      "cell_type": "markdown",
      "metadata": {
        "id": "4jnYgnFjP6eE",
        "colab_type": "text"
      },
      "source": [
        "Import pandas\n"
      ]
    },
    {
      "cell_type": "code",
      "metadata": {
        "id": "S9hFYrmqQlLA",
        "colab_type": "code",
        "colab": {}
      },
      "source": [
        "import pandas as pd"
      ],
      "execution_count": 0,
      "outputs": []
    },
    {
      "cell_type": "markdown",
      "metadata": {
        "id": "bCbET5ioQlmQ",
        "colab_type": "text"
      },
      "source": [
        "Import seaborn\n"
      ]
    },
    {
      "cell_type": "code",
      "metadata": {
        "id": "lwNwPn5nQowi",
        "colab_type": "code",
        "colab": {}
      },
      "source": [
        "import seaborn as sn"
      ],
      "execution_count": 0,
      "outputs": []
    },
    {
      "cell_type": "markdown",
      "metadata": {
        "id": "2hq-PhcTQph7",
        "colab_type": "text"
      },
      "source": [
        "Import numpy"
      ]
    },
    {
      "cell_type": "code",
      "metadata": {
        "id": "ZsWsuYwXRRP3",
        "colab_type": "code",
        "colab": {}
      },
      "source": [
        "import numpy as np"
      ],
      "execution_count": 0,
      "outputs": []
    },
    {
      "cell_type": "markdown",
      "metadata": {
        "id": "jVqQYLgxld7M",
        "colab_type": "text"
      },
      "source": [
        "Import matplotlib"
      ]
    },
    {
      "cell_type": "code",
      "metadata": {
        "id": "ScovMuwvRdtq",
        "colab_type": "code",
        "colab": {}
      },
      "source": [
        "import matplotlib.pyplot as plt"
      ],
      "execution_count": 0,
      "outputs": []
    },
    {
      "cell_type": "markdown",
      "metadata": {
        "id": "uD5cTw9plh9c",
        "colab_type": "text"
      },
      "source": [
        "Loading and viewing a Dataframe"
      ]
    },
    {
      "cell_type": "code",
      "metadata": {
        "id": "XlazD59ClhXi",
        "colab_type": "code",
        "colab": {}
      },
      "source": [
        "# df = pd.read_csv('filemname.csv')\n",
        "df = pd.read_excel('https://abc.com/filename.xlsx', sheet_name ='sheet1', names=['column1', 'column2', 'column3'])\n",
        "\n",
        "df.head()"
      ],
      "execution_count": 0,
      "outputs": []
    },
    {
      "cell_type": "markdown",
      "metadata": {
        "id": "JyThYBHGlm60",
        "colab_type": "text"
      },
      "source": [
        "Using the loaded DataFrame to create and display a plot or graph."
      ]
    },
    {
      "cell_type": "code",
      "metadata": {
        "id": "pr_vT8VSmK6J",
        "colab_type": "code",
        "colab": {}
      },
      "source": [
        "df['columnA'].plot(kind='barh', color = 'g', figsize=(12,6))"
      ],
      "execution_count": 0,
      "outputs": []
    }
  ]
}